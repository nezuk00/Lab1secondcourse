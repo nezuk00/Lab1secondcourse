{
  "nbformat": 4,
  "nbformat_minor": 0,
  "metadata": {
    "colab": {
      "provenance": [],
      "authorship_tag": "ABX9TyMpehx2DltxLI527v0cVBtU",
      "include_colab_link": true
    },
    "kernelspec": {
      "name": "python3",
      "display_name": "Python 3"
    },
    "language_info": {
      "name": "python"
    }
  },
  "cells": [
    {
      "cell_type": "markdown",
      "metadata": {
        "id": "view-in-github",
        "colab_type": "text"
      },
      "source": [
        "<a href=\"https://colab.research.google.com/github/nezuk00/Lab1secondcourse/blob/main/1-10.ipynb\" target=\"_parent\"><img src=\"https://colab.research.google.com/assets/colab-badge.svg\" alt=\"Open In Colab\"/></a>"
      ]
    },
    {
      "cell_type": "code",
      "execution_count": 5,
      "metadata": {
        "colab": {
          "base_uri": "https://localhost:8080/"
        },
        "id": "AnfaXf5OrgOp",
        "outputId": "aae95efa-c7ee-47f5-8a07-ec5e10734954"
      },
      "outputs": [
        {
          "output_type": "stream",
          "name": "stdout",
          "text": [
            "ввведи свое имяТимофей\n",
            "введи год рождения2005\n",
            "привет Тимофей в этом году тебе исполняется 20 лет\n"
          ]
        }
      ],
      "source": [
        "name=input('ввведи свое имя')\n",
        "date = int(input('введи год рождения'))\n",
        "age=2025-date\n",
        "\n",
        "print(f'привет {name} в этом году тебе исполняется {age} лет')"
      ]
    },
    {
      "cell_type": "code",
      "source": [
        "number = int(input('введите число'))\n",
        "if number % 10 ==0:\n",
        "    print('Число кратно 5 и 10 одновременно')\n",
        "else:\n",
        "    print('число не делиться на 5 и на 10 одновременно')"
      ],
      "metadata": {
        "colab": {
          "base_uri": "https://localhost:8080/"
        },
        "id": "5leyY2BGrs3R",
        "outputId": "51293a6a-edcf-4f02-a9e9-afe0f7db50bf"
      },
      "execution_count": 6,
      "outputs": [
        {
          "output_type": "stream",
          "name": "stdout",
          "text": [
            "введите число20\n",
            "Число кратно 5 и 10\n"
          ]
        }
      ]
    },
    {
      "cell_type": "code",
      "source": [
        "a,b,c = int(input('введите любыое число ')), int(input('введите любыое число ')), int(input('введите любыое число '))\n",
        "if a<b and a<c:\n",
        "  print('Самое маленькое число ', a)\n",
        "if b<a and b<c:\n",
        "  print('Самое маленькое число ', b)\n",
        "if c<a and c<b:\n",
        "  print('Самое маленькое число ', b)"
      ],
      "metadata": {
        "colab": {
          "base_uri": "https://localhost:8080/"
        },
        "id": "Eec4XRkiu5nf",
        "outputId": "5116c86d-3302-4261-f1e4-351be1487226"
      },
      "execution_count": 11,
      "outputs": [
        {
          "output_type": "stream",
          "name": "stdout",
          "text": [
            "введите любыое число 10\n",
            "введите любыое число 15\n",
            "введите любыое число 20\n",
            "Самое маленькое число  10\n"
          ]
        }
      ]
    },
    {
      "cell_type": "code",
      "source": [
        "from re import I\n",
        "start = int(input(\"введите начальное число\"))\n",
        "finish = int(input(\"введите конечное число\"))\n",
        "a=[]\n",
        "for i in range(start,finish+1):\n",
        "  if i % 2 == 0:\n",
        "    a.append(i)\n",
        "    print(i)\n",
        "\n",
        "if not a:\n",
        "  print('четнрых чисел нет')\n"
      ],
      "metadata": {
        "colab": {
          "base_uri": "https://localhost:8080/"
        },
        "id": "4lEAAJNsyvPz",
        "outputId": "2f298c35-ca52-4331-ae60-cf5ab2bea89d"
      },
      "execution_count": 27,
      "outputs": [
        {
          "output_type": "stream",
          "name": "stdout",
          "text": [
            "введите начальное число5\n",
            "введите конечное число10\n",
            "6\n",
            "8\n",
            "10\n"
          ]
        }
      ]
    },
    {
      "cell_type": "code",
      "source": [
        "a=[10,4,6,8,18,19,20]\n",
        "print(len(a))\n",
        "print(a[-1])\n",
        "print(a[::-1])\n",
        "if 5 in a and 17 in a:\n",
        "  print(\"Да\")\n",
        "else:\n",
        "  print(\"Нет\")"
      ],
      "metadata": {
        "colab": {
          "base_uri": "https://localhost:8080/"
        },
        "id": "w63Oo60uzUdA",
        "outputId": "ef85be4e-f262-4546-e572-eb60add639e0"
      },
      "execution_count": 36,
      "outputs": [
        {
          "output_type": "stream",
          "name": "stdout",
          "text": [
            "7\n",
            "20\n",
            "[20, 19, 18, 8, 6, 4, 10]\n",
            "Нет\n"
          ]
        }
      ]
    },
    {
      "cell_type": "code",
      "source": [
        "student = {\"name\": \"Alice\", \"age\": 20, \"course\": \"Программист\", \"grades\": [4, 5, 3, 5, 4]}\n",
        "\n",
        "print(f\"Имя: {student['name']}, Курс: {student['course']}\")\n",
        "\n",
        "average_grade = sum(student['grades']) / len(student['grades'])\n",
        "print(f\"Средний балл: {average_grade}\")\n",
        "\n",
        "student['grades'].append(5)\n",
        "\n",
        "print(\"Обновленный словарь:\", student)"
      ],
      "metadata": {
        "colab": {
          "base_uri": "https://localhost:8080/"
        },
        "id": "akZ2SyzU2c6J",
        "outputId": "de625ad0-4dd6-4fb8-cc82-2a7fc176e0da"
      },
      "execution_count": 39,
      "outputs": [
        {
          "output_type": "stream",
          "name": "stdout",
          "text": [
            "Имя: Alice, Курс: Программист\n",
            "Средний балл: 4.2\n",
            "Обновленный словарь: {'name': 'Alice', 'age': 20, 'course': 'Программист', 'grades': [4, 5, 3, 5, 4, 5]}\n"
          ]
        }
      ]
    },
    {
      "cell_type": "code",
      "source": [
        "import math\n",
        "\n",
        "def calculate_circle_area(radius):\n",
        "  return math.pi * (radius ** 2)\n",
        "\n",
        "def is_positive(number):\n",
        "  return number > 0\n",
        "\n",
        "radius = 5\n",
        "area = calculate_circle_area(radius)\n",
        "print(f\"площядь круга с радиусом {radius} равна: {area}\")\n",
        "\n",
        "num1 = 10\n",
        "num2 = -3\n",
        "print(f\"Is {num1} positive? {is_positive(num1)}\")\n",
        "print(f\"Is {num2} positive? {is_positive(num2)}\")"
      ],
      "metadata": {
        "colab": {
          "base_uri": "https://localhost:8080/"
        },
        "id": "6zcES46Z-F1p",
        "outputId": "3a30b320-ba1c-449c-d2d4-6680b75b909a"
      },
      "execution_count": 41,
      "outputs": [
        {
          "output_type": "stream",
          "name": "stdout",
          "text": [
            "площядь круга с радиусом 5 равна: 78.53981633974483\n",
            "Is 10 positive? True\n",
            "Is -3 positive? False\n"
          ]
        }
      ]
    },
    {
      "cell_type": "code",
      "source": [
        "a = ['a', 'b', 'c', 'd', 'e', 'f', 'g', 'h', 'i', 'j', 'k', 'l', 'm', 'n', 'o', 'p', 'q', 'r', 's', 't', 'u', 'v', 'w', 'x', 'y', 'z']\n",
        "b = ['A', 'B', 'C', 'D', 'E', 'F', 'G', 'H', 'I', 'J', 'K', 'L', 'M', 'N', 'O', 'P', 'Q', 'R', 'S', 'T', 'U', 'V', 'W', 'X', 'Y', 'Z']\n",
        "\n",
        "string = input('Введите строку: ')\n",
        "c = []\n",
        "\n",
        "for char in string:\n",
        "    if char in b:\n",
        "        index = b.index(char)\n",
        "        new_index = (index + 3) % 26\n",
        "        c.append(b[new_index])\n",
        "    elif char in a:\n",
        "        index = a.index(char)\n",
        "        new_index = (index + 3) % 26\n",
        "        c.append(a[new_index])\n",
        "    else:\n",
        "        c.append(char)\n",
        "\n",
        "print(''.join(c))"
      ],
      "metadata": {
        "colab": {
          "base_uri": "https://localhost:8080/"
        },
        "id": "hWUVoyrQ_7aC",
        "outputId": "6bed01c6-66cb-4fe6-9b07-b00c10026aa9"
      },
      "execution_count": 44,
      "outputs": [
        {
          "output_type": "stream",
          "name": "stdout",
          "text": [
            "Введите строку: Aaaa\n",
            "Dddd\n"
          ]
        }
      ]
    },
    {
      "cell_type": "code",
      "source": [
        "import random\n",
        "\n",
        "random_numbers = [random.randint(-10, 10) for _ in range(15)]\n",
        "print(\"оригинальный список:\", random_numbers)\n",
        "\n",
        "positive_numbers = [num for num in random_numbers if num > 0]\n",
        "print(\"положительные числа:\", positive_numbers)\n",
        "\n",
        "squared_numbers = [num ** 2 for num in random_numbers]\n",
        "print(\"числа в квадрате:\", squared_numbers)"
      ],
      "metadata": {
        "colab": {
          "base_uri": "https://localhost:8080/"
        },
        "id": "Z2VtCbfU_628",
        "outputId": "c998d672-96e5-46c4-e7b8-c4d567c42ccd"
      },
      "execution_count": 46,
      "outputs": [
        {
          "output_type": "stream",
          "name": "stdout",
          "text": [
            "оригинальный список: [2, -10, -7, 2, 4, 10, 3, -10, 5, -9, -10, -5, -6, 0, -5]\n",
            "положительные числа: [2, 2, 4, 10, 3, 5]\n",
            "числа в квадрате: [4, 100, 49, 4, 16, 100, 9, 100, 25, 81, 100, 25, 36, 0, 25]\n"
          ]
        }
      ]
    },
    {
      "cell_type": "code",
      "source": [
        "while True:\n",
        "  count = input('Введите число или \"стоп\" для выхода: ')\n",
        "  if count.lower() == \"стоп\":\n",
        "    break\n",
        "  else:\n",
        "    try:\n",
        "      print(float(count))\n",
        "\n",
        "    except ValueError:\n",
        "      print(f\"'{count}' не является числом. Введите либо число, либо 'стоп'.\")"
      ],
      "metadata": {
        "colab": {
          "base_uri": "https://localhost:8080/"
        },
        "id": "8HzZBffGE0a4",
        "outputId": "e602fae5-3353-413e-b5f8-e67fc0558e48"
      },
      "execution_count": 54,
      "outputs": [
        {
          "name": "stdout",
          "output_type": "stream",
          "text": [
            "Введите число или \"стоп\" для выхода: 3\n",
            "3.0\n",
            "Введите число или \"стоп\" для выхода: 4\n",
            "4.0\n",
            "Введите число или \"стоп\" для выхода: s\n",
            "'s' не является числом. Введите либо число, либо 'стоп'.\n",
            "Введите число или \"стоп\" для выхода: стоп\n"
          ]
        }
      ]
    },
    {
      "cell_type": "code",
      "source": [],
      "metadata": {
        "id": "O6AqY2IVGRg-"
      },
      "execution_count": 54,
      "outputs": []
    }
  ]
}